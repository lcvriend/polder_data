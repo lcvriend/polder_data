{
 "cells": [
  {
   "cell_type": "markdown",
   "metadata": {},
   "source": [
    "# Re-projecting polder data\n",
    "---\n",
    "* from [EPSG:7415](https://spatialreference.org/ref/epsg/7415/) (Amersfoort / RD New + NAP height)\n",
    "* to [EPSG:3395](https://spatialreference.org/ref/epsg/3395/) (WGS 84 / World Mercator)"
   ]
  },
  {
   "cell_type": "code",
   "execution_count": 7,
   "metadata": {},
   "outputs": [],
   "source": [
    "from pathlib import Path\n",
    "import pandas as pd\n",
    "import geopandas as gpd"
   ]
  },
  {
   "cell_type": "markdown",
   "metadata": {},
   "source": [
    "### Read data"
   ]
  },
  {
   "cell_type": "code",
   "execution_count": null,
   "metadata": {},
   "outputs": [],
   "source": [
    "dbfs = list(Path('../data').glob('*.dbf'))\n",
    "include = ['LABCODE', 'SAMPLINGCO', 'X_COORDINA', 'Y_COORDINA', 'PAIR_LENGT']\n",
    "read_dbf = lambda f: gpd.read_file(f, include_fields=include)\n",
    "data = pd.concat(\n",
    "    (read_dbf(f) for f in dbfs),\n",
    "    keys=(f.stem for f in dbfs),\n",
    "    names=['dbf', 'idx'],\n",
    ").reset_index()"
   ]
  },
  {
   "cell_type": "markdown",
   "metadata": {},
   "source": [
    "### Re-project"
   ]
  },
  {
   "cell_type": "code",
   "execution_count": null,
   "metadata": {},
   "outputs": [],
   "source": [
    "geometry = gpd.GeoSeries.from_xy(data.X_COORDINA, data.Y_COORDINA)\n",
    "gdf = (\n",
    "    gpd.GeoDataFrame(\n",
    "        data,\n",
    "        geometry = geometry,\n",
    "        crs = 'EPSG:7415',\n",
    "    )\n",
    "    .to_crs('EPSG:3395')\n",
    "    .assign(\n",
    "        longitude = lambda gdf: gdf.geometry.x,\n",
    "        latitude = lambda gdf: gdf.geometry.y,\n",
    "    )\n",
    ")\n",
    "gdf.to_excel('../output/reprojected_polder_data.xlsx')"
   ]
  },
  {
   "cell_type": "code",
   "execution_count": null,
   "metadata": {},
   "outputs": [],
   "source": [
    "gdf"
   ]
  },
  {
   "cell_type": "markdown",
   "metadata": {},
   "source": [
    "### Explore"
   ]
  },
  {
   "cell_type": "code",
   "execution_count": null,
   "metadata": {},
   "outputs": [],
   "source": [
    "gdf.explore()"
   ]
  },
  {
   "cell_type": "code",
   "execution_count": null,
   "metadata": {},
   "outputs": [],
   "source": [
    "gdf.explore().save('../index.html')"
   ]
  }
 ],
 "metadata": {
  "kernelspec": {
   "display_name": "geo",
   "language": "python",
   "name": "python3"
  },
  "language_info": {
   "codemirror_mode": {
    "name": "ipython",
    "version": 3
   },
   "file_extension": ".py",
   "mimetype": "text/x-python",
   "name": "python",
   "nbconvert_exporter": "python",
   "pygments_lexer": "ipython3",
   "version": "3.12.2"
  }
 },
 "nbformat": 4,
 "nbformat_minor": 2
}
